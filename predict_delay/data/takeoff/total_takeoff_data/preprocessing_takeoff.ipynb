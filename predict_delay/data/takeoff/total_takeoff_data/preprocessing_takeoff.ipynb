{
 "cells": [
  {
   "cell_type": "code",
   "execution_count": 1,
   "metadata": {},
   "outputs": [],
   "source": [
    "import pandas as pd"
   ]
  },
  {
   "cell_type": "code",
   "execution_count": 2,
   "metadata": {},
   "outputs": [],
   "source": [
    "all_takeoff = pd.read_csv('../initial_takeoff_data/merge_initial_takeoff_data.ipynb')"
   ]
  },
  {
   "cell_type": "code",
   "execution_count": 3,
   "metadata": {},
   "outputs": [],
   "source": [
    "# 불필요한 피쳐 제거\n",
    "\n",
    "all_takeoff = all_takeoff.drop([\"출/도착구분\", \"출발공항코드\", \"출발공항명\", \"도착공항코드\", \"도착공항명\", \"예상시간\"], axis=1)"
   ]
  },
  {
   "cell_type": "code",
   "execution_count": 4,
   "metadata": {},
   "outputs": [],
   "source": [
    "# 여객 항공편만을 취급\n",
    "\n",
    "all_takeoff = all_takeoff[all_takeoff['구분'] == '여객']"
   ]
  },
  {
   "cell_type": "code",
   "execution_count": 6,
   "metadata": {},
   "outputs": [],
   "source": [
    "# 결측치 제거\n",
    "\n",
    "all_takeoff = all_takeoff.dropna()"
   ]
  },
  {
   "cell_type": "code",
   "execution_count": 10,
   "metadata": {},
   "outputs": [
    {
     "name": "stdout",
     "output_type": "stream",
     "text": [
      "              날짜       항공사      편명   계획시간 출발시간  구분  현황\n",
      "985     20240102      대한항공   KE719  20:40    :  여객  취소\n",
      "998     20240102    아시아나항공   OZ178  21:20    :  여객  취소\n",
      "1336    20240103    중국남방항공   CZ688  13:20    :  여객  취소\n",
      "1602    20240103    중국남방항공   CZ672  21:55    :  여객  취소\n",
      "2113    20240104      대한항공  KE8051  20:30    :  여객  취소\n",
      "...          ...       ...     ...    ...  ...  ..  ..\n",
      "203573  20241216     핀란드항공    AY42  23:00    :  여객  취소\n",
      "204145  20241217     핀란드항공    AY42  23:00    :  여객  취소\n",
      "204182  20241218  에어아시아버하드  AK1624  01:05    :  여객  지연\n",
      "206324  20241221     폴란드항공   LO098  13:25    :  여객  취소\n",
      "210682  20241228     캐나다항공   AC064  16:55    :  여객  취소\n",
      "\n",
      "[497 rows x 7 columns]\n"
     ]
    }
   ],
   "source": [
    "# 출발시간 컬럼에 올바른 형식이 아닌 데이터를 찾기 위한 정규 표현식\n",
    "\n",
    "invalid_time = all_takeoff[~all_takeoff['출발시간'].str.match(r'^\\d{2}:\\d{2}$')]\n",
    "\n",
    "# 결과 출력\n",
    "print(invalid_time[['날짜', '항공사', '편명', '계획시간', '출발시간', \"구분\", \"현황\"]])"
   ]
  },
  {
   "cell_type": "code",
   "execution_count": 12,
   "metadata": {},
   "outputs": [
    {
     "name": "stdout",
     "output_type": "stream",
     "text": [
      "              날짜       항공사      편명   계획시간 출발시간  구분  현황\n",
      "985     20240102      대한항공   KE719  20:40    :  여객  취소\n",
      "998     20240102    아시아나항공   OZ178  21:20    :  여객  취소\n",
      "1336    20240103    중국남방항공   CZ688  13:20    :  여객  취소\n",
      "1602    20240103    중국남방항공   CZ672  21:55    :  여객  취소\n",
      "2113    20240104      대한항공  KE8051  20:30    :  여객  취소\n",
      "...          ...       ...     ...    ...  ...  ..  ..\n",
      "203573  20241216     핀란드항공    AY42  23:00    :  여객  취소\n",
      "204145  20241217     핀란드항공    AY42  23:00    :  여객  취소\n",
      "204182  20241218  에어아시아버하드  AK1624  01:05    :  여객  지연\n",
      "206324  20241221     폴란드항공   LO098  13:25    :  여객  취소\n",
      "210682  20241228     캐나다항공   AC064  16:55    :  여객  취소\n",
      "\n",
      "[497 rows x 7 columns]\n",
      "              날짜   계획시간   출발시간           timestamp\n",
      "0       20240101  00:05  00:01 2024-01-01 00:01:00\n",
      "2       20240101  00:05  00:05 2024-01-01 00:05:00\n",
      "3       20240101  00:15  00:51 2024-01-01 00:51:00\n",
      "4       20240101  00:15  00:18 2024-01-01 00:18:00\n",
      "5       20240101  00:20  01:54 2024-01-01 01:54:00\n",
      "...          ...    ...    ...                 ...\n",
      "212660  20241231  23:10  23:33 2024-12-31 23:33:00\n",
      "212662  20241231  23:15  23:48 2024-12-31 23:48:00\n",
      "212663  20241231  23:20  23:26 2024-12-31 23:26:00\n",
      "212667  20241231  23:40  23:51 2024-12-31 23:51:00\n",
      "212669  20241231  23:55  23:54 2024-12-31 23:54:00\n",
      "\n",
      "[179719 rows x 4 columns]\n"
     ]
    }
   ],
   "source": [
    "## timestamp 특징 생성 ##\n",
    "\n",
    "# 잘못된 출발시간을 찾는 정규 표현식\n",
    "invalid_time = all_takeoff[~all_takeoff['출발시간'].str.match(r'^\\d{2}:\\d{2}$')]\n",
    "\n",
    "# 잘못된 출발시간을 확인 (예: :만 있는 값들)\n",
    "print(invalid_time[['날짜', '항공사', '편명', '계획시간', '출발시간', '구분', '현황']])\n",
    "\n",
    "# `timestamp` 생성 함수\n",
    "def create_timestamp(row):\n",
    "    # 출발시간이 올바른 형태(HH:MM)인지 확인\n",
    "    if pd.to_datetime(row['출발시간'], errors='coerce') is pd.NaT:\n",
    "        # 출발시간이 잘못된 경우 예상시간 사용\n",
    "        return pd.to_datetime(f\"{row['날짜']} {row['계획시간']}\", format=\"%Y%m%d %H:%M\")\n",
    "    else:\n",
    "        # 출발시간이 올바른 경우 출발시간 사용\n",
    "        return pd.to_datetime(f\"{row['날짜']} {row['출발시간']}\", format=\"%Y%m%d %H:%M\")\n",
    "\n",
    "# 잘못된 출발시간을 가진 행은 예측된 시간으로 처리하고, 나머지는 그대로 처리\n",
    "all_takeoff['timestamp'] = all_takeoff.apply(create_timestamp, axis=1)\n",
    "\n",
    "# 결과 확인\n",
    "print(all_takeoff[['날짜', '계획시간', '출발시간', 'timestamp']])"
   ]
  },
  {
   "cell_type": "code",
   "execution_count": 13,
   "metadata": {},
   "outputs": [
    {
     "name": "stdout",
     "output_type": "stream",
     "text": [
      "              날짜   출발시간           timestamp\n",
      "0       20240101  00:01 2024-01-01 00:00:00\n",
      "2       20240101  00:05 2024-01-01 00:00:00\n",
      "3       20240101  00:51 2024-01-01 00:00:00\n",
      "4       20240101  00:18 2024-01-01 00:00:00\n",
      "5       20240101  01:54 2024-01-01 01:00:00\n",
      "...          ...    ...                 ...\n",
      "212660  20241231  23:33 2024-12-31 23:00:00\n",
      "212662  20241231  23:48 2024-12-31 23:00:00\n",
      "212663  20241231  23:26 2024-12-31 23:00:00\n",
      "212667  20241231  23:51 2024-12-31 23:00:00\n",
      "212669  20241231  23:54 2024-12-31 23:00:00\n",
      "\n",
      "[179719 rows x 3 columns]\n"
     ]
    },
    {
     "name": "stderr",
     "output_type": "stream",
     "text": [
      "/var/folders/m1/bqb2x_hs2p3c9xfm8sbxkgcr0000gn/T/ipykernel_5794/1901965016.py:4: FutureWarning: 'H' is deprecated and will be removed in a future version, please use 'h' instead.\n",
      "  all_takeoff['timestamp'] = all_takeoff['timestamp'].dt.floor('H')\n"
     ]
    }
   ],
   "source": [
    "## 분정보 초기화\n",
    "\n",
    "# timestamp에서 분을 00으로 변경하는 방법\n",
    "all_takeoff['timestamp'] = all_takeoff['timestamp'].dt.floor('H')\n",
    "\n",
    "# 결과 확인\n",
    "print(all_takeoff[['날짜', '출발시간', 'timestamp']])"
   ]
  },
  {
   "cell_type": "code",
   "execution_count": 19,
   "metadata": {},
   "outputs": [],
   "source": [
    "all_takeoff.to_csv(\"./2024_takeoff.csv\", index=False)"
   ]
  }
 ],
 "metadata": {
  "kernelspec": {
   "display_name": "BigPie",
   "language": "python",
   "name": "python3"
  },
  "language_info": {
   "codemirror_mode": {
    "name": "ipython",
    "version": 3
   },
   "file_extension": ".py",
   "mimetype": "text/x-python",
   "name": "python",
   "nbconvert_exporter": "python",
   "pygments_lexer": "ipython3",
   "version": "3.11.10"
  }
 },
 "nbformat": 4,
 "nbformat_minor": 2
}
