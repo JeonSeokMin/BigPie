{
 "cells": [
  {
   "cell_type": "code",
   "execution_count": 1,
   "metadata": {},
   "outputs": [],
   "source": [
    "import pandas as pd\n",
    "import numpy as np"
   ]
  },
  {
   "cell_type": "code",
   "execution_count": 2,
   "metadata": {},
   "outputs": [],
   "source": [
    "use_data = pd.read_csv('../data_merge/merged_data.csv')"
   ]
  },
  {
   "cell_type": "code",
   "execution_count": 3,
   "metadata": {},
   "outputs": [],
   "source": [
    "use_data = use_data.drop([\"출발시간\", \"timestamp\", \"구분\"], axis=1)"
   ]
  },
  {
   "cell_type": "code",
   "execution_count": 4,
   "metadata": {},
   "outputs": [],
   "source": [
    "use_data = use_data.reindex(['날짜', '항공사', '편명', '계획시간', 'wind_direction', 'wind_speed',\n",
    "       'temperature', 'pressure', '현황'], axis=1)"
   ]
  },
  {
   "cell_type": "code",
   "execution_count": 5,
   "metadata": {},
   "outputs": [
    {
     "data": {
      "text/plain": [
       "날짜                 366\n",
       "항공사                 87\n",
       "편명                1114\n",
       "계획시간               280\n",
       "wind_direction      38\n",
       "wind_speed          28\n",
       "temperature         49\n",
       "pressure           137\n",
       "현황                   4\n",
       "dtype: int64"
      ]
     },
     "execution_count": 5,
     "metadata": {},
     "output_type": "execute_result"
    }
   ],
   "source": [
    "use_data.nunique()"
   ]
  },
  {
   "cell_type": "markdown",
   "metadata": {},
   "source": [
    "---"
   ]
  },
  {
   "cell_type": "code",
   "execution_count": 6,
   "metadata": {},
   "outputs": [],
   "source": [
    "    # 1. 날짜 처리\n",
    "use_data['날짜'] = pd.to_datetime(use_data['날짜'], format='%Y%m%d')\n",
    "use_data['요일'] = use_data['날짜'].dt.dayofweek  # 0: 월요일, 6: 일요일\n",
    "use_data['계절'] = use_data['날짜'].dt.month % 12 // 3  # 0: 겨울, 1: 봄, 2: 여름, 3: 가을"
   ]
  },
  {
   "cell_type": "code",
   "execution_count": 7,
   "metadata": {},
   "outputs": [],
   "source": [
    "# 2. 시간대 분류\n",
    "use_data['시간'] = pd.to_datetime(use_data['계획시간'], format='%H:%M').dt.hour\n",
    "use_data['시간대'] = pd.cut(use_data['시간'], bins=[0, 6, 12, 18, 24], labels=[0, 1, 2, 3], right=False)"
   ]
  },
  {
   "cell_type": "code",
   "execution_count": 9,
   "metadata": {},
   "outputs": [],
   "source": [
    "# 항공사 및 편명 매핑 테이블 생성\n",
    "airline_mapping = {name: code for code, name in enumerate(use_data['항공사'].astype('category').cat.categories)}\n",
    "flight_mapping = {name: code for code, name in enumerate(use_data['편명'].astype('category').cat.categories)}\n",
    "use_data['항공사'] = use_data['항공사'].astype('category').cat.codes\n",
    "use_data['편명'] = use_data['편명'].astype('category').cat.codes"
   ]
  },
  {
   "cell_type": "code",
   "execution_count": 11,
   "metadata": {},
   "outputs": [],
   "source": [
    "# 4. 목표 변수 변환\n",
    "status_mapping = {\"출발\": 0, \"지연\": 1, \"취소\": 2, \"회항\": 3}\n",
    "use_data['현황'] = use_data['현황'].map(status_mapping)"
   ]
  },
  {
   "cell_type": "code",
   "execution_count": 12,
   "metadata": {},
   "outputs": [],
   "source": [
    "# 날짜를 숫자로 변환\n",
    "use_data['날짜'] = pd.to_datetime(use_data['날짜'])\n",
    "use_data['연도'] = use_data['날짜'].dt.year\n",
    "use_data['월'] = use_data['날짜'].dt.month\n",
    "use_data['일'] = use_data['날짜'].dt.day\n",
    "use_data.drop(columns=['날짜'], inplace=True)  # 원본 날짜 컬럼 삭제"
   ]
  },
  {
   "cell_type": "code",
   "execution_count": 13,
   "metadata": {},
   "outputs": [],
   "source": [
    "# 계획시간을 분 단위로 변환\n",
    "use_data['계획시간'] = pd.to_datetime(use_data['계획시간'], format='%H:%M')\n",
    "use_data['시간(분)'] = use_data['계획시간'].dt.hour * 60 + use_data['계획시간'].dt.minute\n",
    "use_data.drop(columns=['계획시간'], inplace=True)  # 원본 시간 컬럼 삭제"
   ]
  },
  {
   "cell_type": "code",
   "execution_count": 14,
   "metadata": {},
   "outputs": [],
   "source": [
    "use_data = use_data.reindex(['항공사', '편명', 'wind_direction', 'wind_speed', 'temperature', 'pressure', '요일', '계절', '시간', '시간대', '연도', '월', '일', '시간(분)',\n",
    "       '현황'], axis=1)"
   ]
  },
  {
   "cell_type": "code",
   "execution_count": 15,
   "metadata": {},
   "outputs": [],
   "source": [
    "use_data.to_csv(\"./processed_merged_data.csv\", index=False)"
   ]
  },
  {
   "cell_type": "code",
   "execution_count": null,
   "metadata": {},
   "outputs": [],
   "source": []
  }
 ],
 "metadata": {
  "kernelspec": {
   "display_name": "BigPie",
   "language": "python",
   "name": "python3"
  },
  "language_info": {
   "codemirror_mode": {
    "name": "ipython",
    "version": 3
   },
   "file_extension": ".py",
   "mimetype": "text/x-python",
   "name": "python",
   "nbconvert_exporter": "python",
   "pygments_lexer": "ipython3",
   "version": "3.11.10"
  }
 },
 "nbformat": 4,
 "nbformat_minor": 2
}
