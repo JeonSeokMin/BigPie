{
 "cells": [
  {
   "cell_type": "code",
   "execution_count": 1,
   "metadata": {},
   "outputs": [],
   "source": [
    "import pandas as pd"
   ]
  },
  {
   "cell_type": "code",
   "execution_count": null,
   "metadata": {},
   "outputs": [],
   "source": [
    "# 데이터 호출\n",
    "weather = pd.read_csv(\"../initial_weather_data/weather_data.csv\")\n",
    "\n",
    "# 타임라인 중복 제거\n",
    "weather = weather.drop_duplicates(subset=[\"timestamp\"])"
   ]
  },
  {
   "cell_type": "code",
   "execution_count": null,
   "metadata": {},
   "outputs": [],
   "source": [
    "weather_check = weather.copy()"
   ]
  },
  {
   "cell_type": "code",
   "execution_count": null,
   "metadata": {},
   "outputs": [],
   "source": [
    "## 빠진 타임 라인 찾기 ##\n",
    "\n",
    "# timestamp를 datetime 형식으로 변환\n",
    "weather_check['timestamp'] = pd.to_datetime(weather_check['timestamp'], format='%Y%m%d%H%M')\n",
    "\n",
    "# 전체 기간 생성 (2024년 1월 1일부터 12월 31일까지 1시간 단위)\n",
    "full_range = pd.date_range(start='2024-01-01 00:00', end='2024-12-31 23:00', freq='H')\n",
    "\n",
    "# 빠진 timestamp 찾기\n",
    "missing_timestamps = full_range.difference(weather_check['timestamp'])\n",
    "\n",
    "# 결과 출력\n",
    "print(\"빠진 timestamp 개수:\", len(missing_timestamps))\n",
    "print(missing_timestamps)"
   ]
  },
  {
   "cell_type": "code",
   "execution_count": null,
   "metadata": {},
   "outputs": [],
   "source": [
    "import requests\n",
    "import time\n",
    "\n",
    "## 비어있는 타임라인 API 호출을 통해 테이터 수집 ##\n",
    "\n",
    "# === 1. 기존 데이터 불러오기 ===\n",
    "weather = pd.read_csv('./weather/weather_data.csv')\n",
    "weather['timestamp'] = pd.to_datetime(weather['timestamp'], format='%Y%m%d%H%M')\n",
    "\n",
    "# === 2. 빠진 timestamp 확보 ===\n",
    "full_range = pd.date_range(start='2024-01-01 00:00', end='2024-12-31 23:00', freq='H')\n",
    "missing_timestamps = full_range.difference(weather['timestamp'])\n",
    "\n",
    "# === 3. Open API를 이용해 데이터 수집 ===\n",
    "url = 'http://apis.data.go.kr/1360000/AirInfoService/getAirInfo'\n",
    "\n",
    "new_data = []\n",
    "\n",
    "for ts in missing_timestamps:\n",
    "    fctm = ts.strftime('%Y%m%d%H%M')  # API 요청에 맞는 시간 형식 변환\n",
    "    params = {\n",
    "        'numOfRows': '100',\n",
    "        'pageNo': '1',\n",
    "        'dataType': 'JSON',\n",
    "        'fctm': fctm,\n",
    "        'icaoCode': 'RKSI'\n",
    "    }\n",
    "\n",
    "    response = requests.get(url, params=params)\n",
    "    \n",
    "    if response.status_code == 200:\n",
    "        try:\n",
    "            data = response.json()\n",
    "            items = data.get(\"response\", {}).get(\"body\", {}).get(\"items\", {}).get(\"item\", [])\n",
    "\n",
    "            # 가져온 데이터가 있다면 추가\n",
    "            if items:\n",
    "                for item in items:\n",
    "                    new_data.append({\n",
    "                        'timestamp': pd.to_datetime(item['tmFc'], format='%Y%m%d%H%M'),\n",
    "                        'wind_direction': int(item['wd']),\n",
    "                        'wind_speed': int(item['ws']),\n",
    "                        'temperature': int(item['ta']),\n",
    "                        'pressure': int(item['qnh'])\n",
    "                    })\n",
    "\n",
    "        except requests.exceptions.JSONDecodeError as e:\n",
    "            print(f\"\\n🚨 JSONDecodeError 발생! (timestamp: {fctm})\")\n",
    "            print(\"응답 상태 코드:\", response.status_code)\n",
    "            print(\"응답 내용:\\n\", response.text)  # 실제 응답 내용을 출력\n",
    "            break  # 에러 발생 시 루프 중단\n",
    "\n",
    "    else:\n",
    "        print(f\"API 요청 실패: {fctm} (Status Code: {response.status_code})\")\n",
    "\n",
    "    time.sleep(1)  # API 요청 간격 조정 (너무 빠르게 호출하면 차단될 수도 있음)\n",
    "\n",
    "# === 4. 새로운 데이터 추가 및 정렬 ===\n",
    "new_df = pd.DataFrame(new_data)\n",
    "weather_fixed = pd.concat([weather, new_df]).sort_values(by='timestamp').reset_index(drop=True)\n",
    "\n",
    "# === 5. CSV로 저장 ===\n",
    "weather_fixed.to_csv('./weather/weather_data_fixed.csv', index=False)\n",
    "\n",
    "print(\"비어있던 timestamp 데이터 수집 및 보정 완료! 🚀\")\n"
   ]
  }
 ],
 "metadata": {
  "kernelspec": {
   "display_name": "BigPie",
   "language": "python",
   "name": "python3"
  },
  "language_info": {
   "codemirror_mode": {
    "name": "ipython",
    "version": 3
   },
   "file_extension": ".py",
   "mimetype": "text/x-python",
   "name": "python",
   "nbconvert_exporter": "python",
   "pygments_lexer": "ipython3",
   "version": "3.11.10"
  }
 },
 "nbformat": 4,
 "nbformat_minor": 2
}
